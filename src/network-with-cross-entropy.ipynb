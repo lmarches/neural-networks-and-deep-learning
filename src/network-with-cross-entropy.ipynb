{
  "nbformat": 4,
  "nbformat_minor": 0,
  "metadata": {
    "kernelspec": {
      "display_name": "Python 2",
      "language": "python",
      "name": "python2"
    },
    "language_info": {
      "codemirror_mode": {
        "name": "ipython",
        "version": 2
      },
      "file_extension": ".py",
      "mimetype": "text/x-python",
      "name": "python",
      "nbconvert_exporter": "python",
      "pygments_lexer": "ipython2",
      "version": "2.7.16"
    },
    "colab": {
      "name": "network-with-cross-entropy.ipynb",
      "provenance": [],
      "include_colab_link": true
    }
  },
  "cells": [
    {
      "cell_type": "markdown",
      "metadata": {
        "id": "view-in-github",
        "colab_type": "text"
      },
      "source": [
        "<a href=\"https://colab.research.google.com/github/lmarches/neural-networks-and-deep-learning/blob/master/src/network-with-cross-entropy.ipynb\" target=\"_parent\"><img src=\"https://colab.research.google.com/assets/colab-badge.svg\" alt=\"Open In Colab\"/></a>"
      ]
    },
    {
      "cell_type": "markdown",
      "metadata": {
        "id": "Di0T6cZjjLcA",
        "colab_type": "text"
      },
      "source": [
        "# Introduction\n",
        "\n",
        "This notebook is based on the code [network2.py](https://github.com/lmarches/neural-networks-and-deep-learning/blob/master/src/network2.py) by Michael Nielsen. \n",
        "It showcases the stochastic gradient descent learning algorithm for a feedforward neural network."
      ]
    },
    {
      "cell_type": "code",
      "metadata": {
        "id": "cKjUjQEtjLcC",
        "colab_type": "code",
        "outputId": "0daad1f3-1318-49fd-89e7-97528adbfb65",
        "colab": {
          "base_uri": "https://localhost:8080/",
          "height": 34
        }
      },
      "source": [
        "%matplotlib inline\n",
        "# we specify which tensorflow version we want to use \n",
        "\n",
        "%tensorflow_version 2.x\n",
        "\n",
        "# Standard library\n",
        "import json\n",
        "import random   \n",
        "import sys\n",
        "import matplotlib.pyplot as plt\n",
        "\n",
        "import random\n",
        "\n",
        "# Third-party libraries\n",
        "import numpy as np\n",
        "import tensorflow as tf "
      ],
      "execution_count": 0,
      "outputs": [
        {
          "output_type": "stream",
          "text": [
            "TensorFlow is already loaded. Please restart the runtime to change versions.\n"
          ],
          "name": "stdout"
        }
      ]
    },
    {
      "cell_type": "code",
      "metadata": {
        "id": "JRso9cqejLcF",
        "colab_type": "code",
        "colab": {}
      },
      "source": [
        "\n",
        "class QuadraticCost(object):\n",
        "       \n",
        "    @staticmethod\n",
        "    def fn(a, y):\n",
        "        # returns the quadratic cost\n",
        "        # a :  a vector containing the output of the network \n",
        "        # y :  desired output (i.e. the labels of MNIST)\n",
        "        return 0.5*np.linalg.norm(a-y)**2\n",
        "\n",
        "    # return the error delta from the output layer.\"\"\"\n",
        "    @staticmethod\n",
        "    def delta(z, a, y):\n",
        "        return (a-y) * sigmoid_prime(z)\n",
        "\n",
        "\n",
        "class CrossEntropyCost(object):\n",
        "\n",
        "    @staticmethod\n",
        "    def fn(a, y):\n",
        "       # returns the cross-entropy cost \n",
        "       # a :  a vector containing the output of the network\n",
        "       # y :  desired output (i.e. the labels of MNIST)\n",
        "       \n",
        "        \"\"\" Note that np.nan_to_num is used to ensure numerical\n",
        "        stability.  In particular, if both ``a`` and ``y`` have a 1.0\n",
        "        in the same slot, then the expression (1-y)*np.log(1-a)\n",
        "        returns nan.  The np.nan_to_num ensures that that is converted\n",
        "        to the correct value (0.0).\n",
        "        \"\"\"\n",
        "        return np.sum(np.nan_to_num(-y*np.log(a)-(1-y)*np.log(1-a)))\n",
        "\n",
        "    @staticmethod\n",
        "    def delta(z, a, y):\n",
        "        \"\"\"Return the error delta from the output layer.  Note that the\n",
        "        parameter ``z`` is not used by the method.  It is included in\n",
        "        the method's parameters in order to make the interface\n",
        "        consistent with the delta method for other cost classes.\n",
        "        \"\"\"\n",
        "        return (a-y)"
      ],
      "execution_count": 0,
      "outputs": []
    },
    {
      "cell_type": "markdown",
      "metadata": {
        "id": "c9ZPLiBlDCUK",
        "colab_type": "text"
      },
      "source": [
        "# Get Data\n",
        "\n",
        "Use Keras to download MNIST in one line. We split into train and test and we verify the dimensionality"
      ]
    },
    {
      "cell_type": "code",
      "metadata": {
        "id": "McS8S8vMC6wx",
        "colab_type": "code",
        "colab": {}
      },
      "source": [
        "# import mnist with keras \n",
        "(x_train, y_train), (x_test, y_test) = tf.keras.datasets.mnist.load_data()"
      ],
      "execution_count": 0,
      "outputs": []
    },
    {
      "cell_type": "code",
      "metadata": {
        "id": "76l0-vKqDOjQ",
        "colab_type": "code",
        "colab": {}
      },
      "source": [
        "# print (\"Training data dimensionality: \"+str(x_train.shape))\n",
        "# print (\"Test data dimensionality: \"+str(x_train.shape))"
      ],
      "execution_count": 0,
      "outputs": []
    },
    {
      "cell_type": "markdown",
      "metadata": {
        "id": "CCwOUhCNjLcI",
        "colab_type": "text"
      },
      "source": [
        "# Data preparation\n",
        "\n",
        "Data needs to be **normalised** between 0 and 1 and \"packaged\" in the right format (i.e. trainig data needs to be associated to their respective labels. \n",
        "\n",
        "Moreover, the labels needs to be converted into the output of the Neural networ (a 10 digit vector) "
      ]
    },
    {
      "cell_type": "code",
      "metadata": {
        "id": "Dl1ezboNjLcI",
        "colab_type": "code",
        "colab": {}
      },
      "source": [
        "def vectorized_result(j):\n",
        "    \"\"\"Return a 10-dimensional unit vector with a 1.0 in the jth\n",
        "    position and zeroes elsewhere.  This is used to convert a digit\n",
        "    (0...9) into a corresponding desired output from the neural\n",
        "    network.\"\"\"\n",
        "    e = np.zeros((10, 1))\n",
        "    e[j] = 1.0\n",
        "    return e\n",
        "\n",
        "# we unfold  24x24 matrices corresponding to each MNIST image into 1x784 vectors \n",
        "training_inputs = [np.reshape(x.astype(np.float32)/255.0,(784,1)) for x in x_train]\n",
        "# we convert a label (e.g. '9') in a 10-dim binary vector [0,0,0,0,0,0,0,0,1,0]\n",
        "training_results = [vectorized_result(y) for y in y_train]\n",
        "# we combine together the features and the labels \n",
        "training_data_keras = zip(training_inputs, training_results)"
      ],
      "execution_count": 0,
      "outputs": []
    },
    {
      "cell_type": "code",
      "metadata": {
        "id": "sJuhJEqLCs-v",
        "colab_type": "code",
        "colab": {}
      },
      "source": [
        "# we do the same for the test set \n",
        "test_inputs = [np.reshape(x.astype(np.float32)/255.0,(784,1)) for x in x_test]\n",
        "test_results = [vectorized_result(y) for y in y_test]\n",
        "test_data_keras = zip(test_inputs,y_test)"
      ],
      "execution_count": 0,
      "outputs": []
    },
    {
      "cell_type": "code",
      "metadata": {
        "id": "VZiE5K3NjLcL",
        "colab_type": "code",
        "colab": {}
      },
      "source": [
        "from matplotlib import pyplot\n",
        "\n",
        "for i in range(1):\n",
        "\tpyplot.subplot(330 + 1 + i)\n",
        "\tpyplot.imshow(x_train[i], cmap=pyplot.get_cmap('gray'))\n",
        "pyplot.show()"
      ],
      "execution_count": 0,
      "outputs": []
    },
    {
      "cell_type": "markdown",
      "metadata": {
        "id": "kd6UNMy8jLcN",
        "colab_type": "text"
      },
      "source": [
        "# Network architecture\n",
        "\n",
        "This is where we define the architecture layers.  In particular: \n",
        "\n",
        "- The list ``sizes`` contains the number of neurons in the respective layers of the network.  \n",
        "  _Example_\n",
        "  \n",
        "   `sizes =  [2, 3, 1]` instantiates  a three-layer network, with the first layer containing 2 neurons, the second layer 3 neurons, and the third layer 1 neuron._\n",
        "- The biases and weights for the network are initialized randomly, using a Gaussian distribution with mean 0, and variance 1.  \n"
      ]
    },
    {
      "cell_type": "code",
      "metadata": {
        "id": "cUFLaPxDjLcO",
        "colab_type": "code",
        "colab": {}
      },
      "source": [
        "#### Main Network class\n",
        "class Network(object):\n",
        "\n",
        "    def __init__(self, sizes, cost=CrossEntropyCost):\n",
        "\n",
        "        self.num_layers = len(sizes)\n",
        "        self.sizes = sizes\n",
        "        self.default_weight_initializer()\n",
        "        self.cost=cost"
      ],
      "execution_count": 0,
      "outputs": []
    },
    {
      "cell_type": "markdown",
      "metadata": {
        "id": "1SlMf0WujLcV",
        "colab_type": "text"
      },
      "source": [
        "# Feedforward calculation \n",
        "\n",
        "This is core operation of Feedforward networks: we multiply the output of previous layers with the weights of the current layer. \n",
        "\n",
        "Moreover we also add the bias and apply the activation function ( in this case a sigmoid)"
      ]
    },
    {
      "cell_type": "code",
      "metadata": {
        "id": "rZ0cPrg1jLcW",
        "colab_type": "code",
        "colab": {}
      },
      "source": [
        "class Network(Network):\n",
        "    def feedforward(self, a):\n",
        "        \"\"\"Return the output of the network if ``a`` is input.\"\"\"\n",
        "        for b, w in zip(self.biases, self.weights):\n",
        "            a = sigmoid(np.dot(w, a)+b)\n",
        "        return a"
      ],
      "execution_count": 0,
      "outputs": []
    },
    {
      "cell_type": "markdown",
      "metadata": {
        "id": "9kEkdW3ajLcY",
        "colab_type": "text"
      },
      "source": [
        "# Initialize weights \n",
        "\n",
        "- **Weights Initialization** : use a Gaussian distribution with mean 0 and standard deviation 1 over the square root of the number of weights connecting to the same neuron ( neurons in the previous layer).\n",
        "\n",
        "\n",
        "\n",
        "- Following this approach, the weighted sum of inputs at a hidden layer will not take a large value and reduces the chances of the *vanishing/exploding gradient problem*.\n",
        "\n",
        "\n",
        "- **Biases Initialization** using a Gaussian distribution with mean 0 and standard deviation 1.\n",
        "\n",
        "\n",
        "_Note: no biases in the first layer (input layer), since biases are only ever used in computing the outputs from later layers._"
      ]
    },
    {
      "cell_type": "code",
      "metadata": {
        "id": "Ew80gF7xjLcZ",
        "colab_type": "code",
        "colab": {}
      },
      "source": [
        "class Network(Network):\n",
        "    \n",
        "    def default_weight_initializer(self):\n",
        "        # we want to get a \n",
        "        # get the number of neurons in all the layers but the first one (for y in self.sizes[1:])\n",
        "        # draw y random numbers to initialise the weights \n",
        "        self.biases = [np.random.randn(y, 1) for y in self.sizes[1:]]\n",
        "\n",
        "\n",
        "        self.weights = [np.random.randn(y, x)/np.sqrt(x)\n",
        "                        for x, y in zip(self.sizes[:-1], self.sizes[1:])]\n",
        "\n",
        "    def large_weight_initializer(self):\n",
        "\n",
        "        self.biases = [np.random.randn(y, 1) for y in self.sizes[1:]]\n",
        "        self.weights = [np.random.randn(y, x)\n",
        "                        for x, y in zip(self.sizes[:-1], self.sizes[1:])]\n"
      ],
      "execution_count": 0,
      "outputs": []
    },
    {
      "cell_type": "markdown",
      "metadata": {
        "id": "f8z2C5h1-HHo",
        "colab_type": "text"
      },
      "source": [
        "# Quadratic and cross-entropy cost functions\n",
        "\n",
        "Define the two cost functions used in the optimization from [X-validated](https://stats.stackexchange.com/questions/154879/a-list-of-cost-functions-used-in-neural-networks-alongside-applications)\n",
        "\n",
        "**1. Quadratic cost**\n",
        "\n",
        "$C_{MST}(W, B, S^r, E^r) = 0.5\\sum\\limits_j (a^L_j - E^r_j)^2$\n",
        "\n",
        "**2. Cross Entropy cost**\n",
        "\n",
        "$C_{CE}(W, B, S^r, E^r) = -\\sum\\limits_j E^r_j \\ln a^L_j + (1 - E^r_j) \\ln(1-a^L_j)] $\n"
      ]
    },
    {
      "cell_type": "code",
      "metadata": {
        "id": "iLnV-3qqjLcb",
        "colab_type": "code",
        "colab": {}
      },
      "source": [
        "class Network(Network):\n",
        "    \n",
        "    def accuracy(self, data, convert=False):\n",
        "        \"\"\"Return the number of inputs in ``data`` for which the neural\n",
        "        network outputs the correct result. The neural network's\n",
        "        output is assumed to be the index of whichever neuron in the\n",
        "        final layer has the highest activation.\n",
        "\n",
        "        The flag ``convert`` should be set to False if the data set is\n",
        "        validation or test data (the usual case), and to True if the\n",
        "        data set is the training data. The need for this flag arises\n",
        "        due to differences in the way the results ``y`` are\n",
        "        represented in the different data sets.  In particular, it\n",
        "        flags whether we need to convert between the different\n",
        "        representations.  It may seem strange to use different\n",
        "        representations for the different data sets.  Why not use the\n",
        "        same representation for all three data sets?  It's done for\n",
        "        efficiency reasons -- the program usually evaluates the cost\n",
        "        on the training data and the accuracy on other data sets.\n",
        "        These are different types of computations, and using different\n",
        "        representations speeds things up.  More details on the\n",
        "        representations can be found in\n",
        "        mnist_loader.load_data_wrapper.\n",
        "\n",
        "        \"\"\"\n",
        "        if convert:\n",
        "            results = [(np.argmax(self.feedforward(x)), np.argmax(y))\n",
        "                       for (x, y) in data]\n",
        "        else:\n",
        "            results = [(np.argmax(self.feedforward(x)), y)\n",
        "                        for (x, y) in data]\n",
        "        return sum(int(x == y) for (x, y) in results)\n",
        "\n",
        "    def total_cost(self, data, lmbda, convert=False):\n",
        "        \"\"\"Return the total cost for the data set ``data``.  The flag\n",
        "        ``convert`` should be set to False if the data set is the\n",
        "        training data (the usual case), and to True if the data set is\n",
        "        the validation or test data.  See comments on the similar (but\n",
        "        reversed) convention for the ``accuracy`` method, above.\n",
        "        \"\"\"\n",
        "        cost = 0.0\n",
        "        for x, y in data:\n",
        "            a = self.feedforward(x)\n",
        "            if convert: y = vectorized_result(y)\n",
        "            cost += self.cost.fn(a, y)/len(data)\n",
        "        cost += 0.5*(lmbda/len(data))*sum(\n",
        "            np.linalg.norm(w)**2 for w in self.weights)\n",
        "        return cost"
      ],
      "execution_count": 0,
      "outputs": []
    },
    {
      "cell_type": "code",
      "metadata": {
        "id": "wAXxVFwGjLcd",
        "colab_type": "code",
        "colab": {}
      },
      "source": [
        "class Network(Network):\n",
        "    def SGD(self, training_data, epochs, mini_batch_size, eta,\n",
        "            lmbda = 0.0,\n",
        "            evaluation_data=None,\n",
        "            monitor_evaluation_cost=False,\n",
        "            monitor_evaluation_accuracy=False,\n",
        "            monitor_training_cost=False,\n",
        "            monitor_training_accuracy=False):\n",
        "        \"\"\"Train the neural network using mini-batch stochastic gradient\n",
        "        descent.  The ``training_data`` is a list of tuples ``(x, y)``\n",
        "        representing the training inputs and the desired outputs.  The\n",
        "        other non-optional parameters are self-explanatory, as is the\n",
        "        regularization parameter ``lmbda``.  The method also accepts\n",
        "        ``evaluation_data``, usually either the validation or test\n",
        "        data.  We can monitor the cost and accuracy on either the\n",
        "        evaluation data or the training data, by setting the\n",
        "        appropriate flags.  The method returns a tuple containing four\n",
        "        lists: the (per-epoch) costs on the evaluation data, the\n",
        "        accuracies on the evaluation data, the costs on the training\n",
        "        data, and the accuracies on the training data.  All values are\n",
        "        evaluated at the end of each training epoch.  So, for example,\n",
        "        if we train for 30 epochs, then the first element of the tuple\n",
        "        will be a 30-element list containing the cost on the\n",
        "        evaluation data at the end of each epoch. Note that the lists\n",
        "        are empty if the corresponding flag is not set.\n",
        "\n",
        "        \"\"\"\n",
        "        if evaluation_data: n_data = len(evaluation_data)\n",
        "        n = len(training_data)\n",
        "        evaluation_cost, evaluation_accuracy = [], []\n",
        "        training_cost, training_accuracy = [], []\n",
        "        for j in xrange(epochs):\n",
        "            random.shuffle(training_data)\n",
        "            mini_batches = [\n",
        "                training_data[k:k+mini_batch_size]\n",
        "                for k in xrange(0, n, mini_batch_size)]\n",
        "            for mini_batch in mini_batches:\n",
        "                self.update_mini_batch(\n",
        "                    mini_batch, eta, lmbda, len(training_data))\n",
        "            print \"Epoch %s training complete\" % j\n",
        "            if monitor_training_cost:\n",
        "                cost = self.total_cost(training_data, lmbda)\n",
        "                training_cost.append(cost)\n",
        "                print \"Cost on training data: {}\".format(cost)\n",
        "            if monitor_training_accuracy:\n",
        "                accuracy = self.accuracy(training_data, convert=True)\n",
        "                training_accuracy.append(accuracy)\n",
        "                print \"Accuracy on training data: {} / {}\".format(\n",
        "                    accuracy, n)\n",
        "            if monitor_evaluation_cost:\n",
        "                cost = self.total_cost(evaluation_data, lmbda, convert=True)\n",
        "                evaluation_cost.append(cost)\n",
        "                print \"Cost on evaluation data: {}\".format(cost)\n",
        "            if monitor_evaluation_accuracy:\n",
        "                accuracy = self.accuracy(evaluation_data)\n",
        "                evaluation_accuracy.append(accuracy)\n",
        "                print \"Accuracy on evaluation data: {} / {}\".format(\n",
        "                    self.accuracy(evaluation_data), n_data)\n",
        "            print\n",
        "        return evaluation_cost, evaluation_accuracy, \\\n",
        "            training_cost, training_accuracy\n"
      ],
      "execution_count": 0,
      "outputs": []
    },
    {
      "cell_type": "markdown",
      "metadata": {
        "id": "jFfcmOGojTX9",
        "colab_type": "text"
      },
      "source": [
        "# Backpropagation\n",
        "\n",
        "This is one of the most important functions where we compute the gradient of the cost function with respect to the weights and the biases. \n",
        "\n",
        "`nabla_w` = $\\delta C_x / \\delta w_{jk}^l $ ( partial derivates of cost function w.r.t weights) \n",
        "\n",
        "`nabla_b` = $\\delta C_x / \\delta b_{j}^l $ ( partial derivates of cost function w.r.t. biases) "
      ]
    },
    {
      "cell_type": "code",
      "metadata": {
        "id": "rCmlNKVPjLce",
        "colab_type": "code",
        "colab": {}
      },
      "source": [
        "class Network(Network):\n",
        "        def backprop(self, x, y):\n",
        "            \"\"\"Return a tuple ``(nabla_b, nabla_w)`` representing the\n",
        "            gradient for the cost function C_x.  ``nabla_b`` and\n",
        "            ``nabla_w`` are layer-by-layer lists of numpy arrays, similar\n",
        "            to ``self.biases`` and ``self.weights``.\"\"\"\n",
        "            nabla_b = [np.zeros(b.shape) for b in self.biases]\n",
        "            nabla_w = [np.zeros(w.shape) for w in self.weights]\n",
        "            # feedforward\n",
        "            activation = x\n",
        "            activations = [x] # list to store all the activations, layer by layer\n",
        "            zs = [] # list to store all the z vectors, layer by layer\n",
        "            for b, w in zip(self.biases, self.weights):\n",
        "                z = np.dot(w, activation)+b\n",
        "                zs.append(z)\n",
        "                activation = sigmoid(z)\n",
        "                activations.append(activation)\n",
        "                \n",
        "            # backward pass\n",
        "            delta = (self.cost).delta(zs[-1], activations[-1], y)\n",
        "            nabla_b[-1] = delta\n",
        "            nabla_w[-1] = np.dot(delta, activations[-2].transpose())\n",
        "            # Note that the variable l in the loop below is used a little\n",
        "            # differently to the notation in Chapter 2 of the book.  Here,\n",
        "            # l = 1 means the last layer of neurons, l = 2 is the\n",
        "            # second-last layer, and so on.  It's a renumbering of the\n",
        "            # scheme in the book, used here to take advantage of the fact\n",
        "            # that Python can use negative indices in lists.\n",
        "            for l in xrange(2, self.num_layers):\n",
        "                z = zs[-l]\n",
        "                sp = sigmoid_prime(z)\n",
        "                delta = np.dot(self.weights[-l+1].transpose(), delta) * sp\n",
        "                nabla_b[-l] = delta\n",
        "                nabla_w[-l] = np.dot(delta, activations[-l-1].transpose())\n",
        "            return (nabla_b, nabla_w)\n"
      ],
      "execution_count": 0,
      "outputs": []
    },
    {
      "cell_type": "code",
      "metadata": {
        "id": "U83-_8dWjLch",
        "colab_type": "code",
        "colab": {}
      },
      "source": [
        "class Network(Network):\n",
        "\n",
        "    def update_mini_batch(self, mini_batch, eta, lmbda, n):\n",
        "        \"\"\"Update the network's weights and biases by applying gradient\n",
        "        descent using backpropagation to a single mini batch.  The\n",
        "        ``mini_batch`` is a list of tuples ``(x, y)``, ``eta`` is the\n",
        "        learning rate, ``lmbda`` is the regularization parameter, and\n",
        "        ``n`` is the total size of the training data set.\n",
        "\n",
        "        \"\"\"\n",
        "        nabla_b = [np.zeros(b.shape) for b in self.biases]\n",
        "        nabla_w = [np.zeros(w.shape) for w in self.weights]\n",
        "        for x, y in mini_batch:\n",
        "            delta_nabla_b, delta_nabla_w = self.backprop(x, y)\n",
        "            nabla_b = [nb+dnb for nb, dnb in zip(nabla_b, delta_nabla_b)]\n",
        "            nabla_w = [nw+dnw for nw, dnw in zip(nabla_w, delta_nabla_w)]\n",
        "            \n",
        "        self.weights = [(1-eta*(lmbda/n))*w-(eta/len(mini_batch))*nw\n",
        "                        for w, nw in zip(self.weights, nabla_w)]\n",
        "        self.biases = [b-(eta/len(mini_batch))*nb\n",
        "                       for b, nb in zip(self.biases, nabla_b)]\n",
        "\n",
        "    def save(self, filename):\n",
        "        \"\"\"Save the neural network to the file ``filename``.\"\"\"\n",
        "        data = {\"sizes\": self.sizes,\n",
        "                \"weights\": [w.tolist() for w in self.weights],\n",
        "                \"biases\": [b.tolist() for b in self.biases],\n",
        "                \"cost\": str(self.cost.__name__)}\n",
        "        f = open(filename, \"w\")\n",
        "        json.dump(data, f)\n",
        "        f.close()\n"
      ],
      "execution_count": 0,
      "outputs": []
    },
    {
      "cell_type": "code",
      "metadata": {
        "id": "faU3FyWrjLcj",
        "colab_type": "code",
        "colab": {}
      },
      "source": [
        "#### Loading a Network\n",
        "def load(filename):\n",
        "    \"\"\"Load a neural network from the file ``filename``.  Returns an\n",
        "    instance of Network.\n",
        "\n",
        "    \"\"\"\n",
        "    f = open(filename, \"r\")\n",
        "    data = json.load(f)\n",
        "    f.close()\n",
        "    cost = getattr(sys.modules[__name__], data[\"cost\"])\n",
        "    net = Network(data[\"sizes\"], cost=cost)\n",
        "    net.weights = [np.array(w) for w in data[\"weights\"]]\n",
        "    net.biases = [np.array(b) for b in data[\"biases\"]]\n",
        "    return net\n",
        "\n",
        "#### Miscellaneous functions\n",
        "def vectorized_result(j):\n",
        "    \"\"\"Return a 10-dimensional unit vector with a 1.0 in the j'th position\n",
        "    and zeroes elsewhere.  This is used to convert a digit (0...9)\n",
        "    into a corresponding desired output from the neural network.\n",
        "\n",
        "    \"\"\"\n",
        "    e = np.zeros((10, 1))\n",
        "    e[j] = 1.0\n",
        "    return e\n",
        "\n",
        "def sigmoid(z):\n",
        "    \"\"\"The sigmoid function.\"\"\"\n",
        "    return 1.0/(1.0+np.exp(-z))\n",
        "\n",
        "def sigmoid_prime(z):\n",
        "    \"\"\"Derivative of the sigmoid function.\"\"\"\n",
        "    return sigmoid(z)*(1-sigmoid(z))\n"
      ],
      "execution_count": 0,
      "outputs": []
    },
    {
      "cell_type": "code",
      "metadata": {
        "id": "zULl1hPnjLcl",
        "colab_type": "code",
        "colab": {}
      },
      "source": [
        "# net = Network([784, 10])\n",
        "# net.SGD(training_data[:1000], 30, 10, 10.0, lmbda = 1000.0,\n",
        "#         evaluation_data=validation_data[:100],\n",
        "#         monitor_evaluation_accuracy=True)"
      ],
      "execution_count": 0,
      "outputs": []
    },
    {
      "cell_type": "code",
      "metadata": {
        "id": "cOGKT86ujLcn",
        "colab_type": "code",
        "colab": {}
      },
      "source": [
        "# net.SGD(training_data_keras, 30, 10, 3.0, test_data=test_data_keras)"
      ],
      "execution_count": 0,
      "outputs": []
    },
    {
      "cell_type": "code",
      "metadata": {
        "id": "HmJurQIZjLcq",
        "colab_type": "code",
        "outputId": "ff92dbcb-866e-4ba9-9bcf-0a0aa15597e5",
        "colab": {}
      },
      "source": [
        "net = Network([784, 10])\n",
        "net.SGD(training_data_keras, 30, 10, 10.0, lmbda = 10.0,\n",
        "        evaluation_data=test_data_keras,\n",
        "        monitor_evaluation_accuracy=True)"
      ],
      "execution_count": 0,
      "outputs": [
        {
          "output_type": "stream",
          "text": [
            "Epoch 0 training complete\n",
            "Accuracy on evaluation data: 8354 / 10000\n",
            "\n",
            "Epoch 1 training complete\n",
            "Accuracy on evaluation data: 7871 / 10000\n",
            "\n",
            "Epoch 2 training complete\n",
            "Accuracy on evaluation data: 8349 / 10000\n",
            "\n",
            "Epoch 3 training complete\n",
            "Accuracy on evaluation data: 8157 / 10000\n",
            "\n",
            "Epoch 4 training complete\n",
            "Accuracy on evaluation data: 7840 / 10000\n",
            "\n",
            "Epoch 5 training complete\n",
            "Accuracy on evaluation data: 7920 / 10000\n",
            "\n",
            "Epoch 6 training complete\n",
            "Accuracy on evaluation data: 8221 / 10000\n",
            "\n",
            "Epoch 7 training complete\n",
            "Accuracy on evaluation data: 8115 / 10000\n",
            "\n",
            "Epoch 8 training complete\n",
            "Accuracy on evaluation data: 8631 / 10000\n",
            "\n",
            "Epoch 9 training complete\n",
            "Accuracy on evaluation data: 7811 / 10000\n",
            "\n",
            "Epoch 10 training complete\n",
            "Accuracy on evaluation data: 8356 / 10000\n",
            "\n",
            "Epoch 11 training complete\n",
            "Accuracy on evaluation data: 7869 / 10000\n",
            "\n",
            "Epoch 12 training complete\n",
            "Accuracy on evaluation data: 8086 / 10000\n",
            "\n",
            "Epoch 13 training complete\n",
            "Accuracy on evaluation data: 6732 / 10000\n",
            "\n",
            "Epoch 14 training complete\n",
            "Accuracy on evaluation data: 8075 / 10000\n",
            "\n",
            "Epoch 15 training complete\n",
            "Accuracy on evaluation data: 7786 / 10000\n",
            "\n",
            "Epoch 16 training complete\n",
            "Accuracy on evaluation data: 8325 / 10000\n",
            "\n"
          ],
          "name": "stdout"
        },
        {
          "output_type": "stream",
          "text": [
            "/Users/luca/Library/Python/2.7/lib/python/site-packages/ipykernel_launcher.py:29: RuntimeWarning: overflow encountered in exp\n"
          ],
          "name": "stderr"
        },
        {
          "output_type": "stream",
          "text": [
            "Epoch 17 training complete\n",
            "Accuracy on evaluation data: 7815 / 10000\n",
            "\n",
            "Epoch 18 training complete\n",
            "Accuracy on evaluation data: 6559 / 10000\n",
            "\n",
            "Epoch 19 training complete\n",
            "Accuracy on evaluation data: 8303 / 10000\n",
            "\n",
            "Epoch 20 training complete\n",
            "Accuracy on evaluation data: 8120 / 10000\n",
            "\n",
            "Epoch 21 training complete\n",
            "Accuracy on evaluation data: 8041 / 10000\n",
            "\n",
            "Epoch 22 training complete\n",
            "Accuracy on evaluation data: 6420 / 10000\n",
            "\n",
            "Epoch 23 training complete\n",
            "Accuracy on evaluation data: 6364 / 10000\n",
            "\n",
            "Epoch 24 training complete\n",
            "Accuracy on evaluation data: 8248 / 10000\n",
            "\n",
            "Epoch 25 training complete\n",
            "Accuracy on evaluation data: 8059 / 10000\n",
            "\n",
            "Epoch 26 training complete\n",
            "Accuracy on evaluation data: 8484 / 10000\n",
            "\n",
            "Epoch 27 training complete\n",
            "Accuracy on evaluation data: 7609 / 10000\n",
            "\n",
            "Epoch 28 training complete\n",
            "Accuracy on evaluation data: 7342 / 10000\n",
            "\n",
            "Epoch 29 training complete\n",
            "Accuracy on evaluation data: 7920 / 10000\n",
            "\n"
          ],
          "name": "stdout"
        },
        {
          "output_type": "execute_result",
          "data": {
            "text/plain": [
              "([],\n",
              " [8354,\n",
              "  7871,\n",
              "  8349,\n",
              "  8157,\n",
              "  7840,\n",
              "  7920,\n",
              "  8221,\n",
              "  8115,\n",
              "  8631,\n",
              "  7811,\n",
              "  8356,\n",
              "  7869,\n",
              "  8086,\n",
              "  6732,\n",
              "  8075,\n",
              "  7786,\n",
              "  8325,\n",
              "  7815,\n",
              "  6559,\n",
              "  8303,\n",
              "  8120,\n",
              "  8041,\n",
              "  6420,\n",
              "  6364,\n",
              "  8248,\n",
              "  8059,\n",
              "  8484,\n",
              "  7609,\n",
              "  7342,\n",
              "  7920],\n",
              " [],\n",
              " [])"
            ]
          },
          "metadata": {
            "tags": []
          },
          "execution_count": 18
        }
      ]
    }
  ]
}