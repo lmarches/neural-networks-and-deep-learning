{
  "nbformat": 4,
  "nbformat_minor": 0,
  "metadata": {
    "kernelspec": {
      "display_name": "Python 2",
      "language": "python",
      "name": "python2"
    },
    "language_info": {
      "codemirror_mode": {
        "name": "ipython",
        "version": 2
      },
      "file_extension": ".py",
      "mimetype": "text/x-python",
      "name": "python",
      "nbconvert_exporter": "python",
      "pygments_lexer": "ipython2",
      "version": "2.7.16"
    },
    "colab": {
      "name": "network-with-cross-entropy.ipynb",
      "provenance": [],
      "include_colab_link": true
    }
  },
  "cells": [
    {
      "cell_type": "markdown",
      "metadata": {
        "id": "view-in-github",
        "colab_type": "text"
      },
      "source": [
        "<a href=\"https://colab.research.google.com/github/lmarches/neural-networks-and-deep-learning/blob/master/src/network-with-cross-entropy.ipynb\" target=\"_parent\"><img src=\"https://colab.research.google.com/assets/colab-badge.svg\" alt=\"Open In Colab\"/></a>"
      ]
    },
    {
      "cell_type": "markdown",
      "metadata": {
        "id": "Di0T6cZjjLcA",
        "colab_type": "text"
      },
      "source": [
        "# Introduction\n",
        "\n",
        "This notebook is based on the code [network2.py](https://github.com/lmarches/neural-networks-and-deep-learning/blob/master/src/network2.py) by Michael Nielsen. \n",
        "\n",
        "It showcases the stochastic gradient descent learning algorithm for a feedforward neural network.\n",
        "\n",
        "Mona Wonderlick - New Day (Vlog Music No Copyright Free Download https://soundcloud.com/monawonderlick/new-day-vlog-music-no-copyright-free-download"
      ]
    },
    {
      "cell_type": "code",
      "metadata": {
        "id": "cKjUjQEtjLcC",
        "colab_type": "code",
        "colab": {
          "base_uri": "https://localhost:8080/",
          "height": 33
        },
        "outputId": "99c29579-516a-47ca-ef20-3081eae171d3"
      },
      "source": [
        "%matplotlib inline\n",
        "\n",
        "# we specify which tensorflow version we want to use \n",
        "%tensorflow_version 2.x\n",
        "\n",
        "import tensorflow as tf \n",
        "\n",
        "# Standard library\n",
        "import json\n",
        "import random   \n",
        "import sys\n",
        "\n",
        "import random\n",
        "\n",
        "# Third-party libraries\n",
        "import numpy as np\n",
        "\n",
        "\n",
        "import matplotlib.pyplot as plt\n",
        "plt.style.use('ggplot')"
      ],
      "execution_count": 2,
      "outputs": [
        {
          "output_type": "stream",
          "text": [
            "TensorFlow 2.x selected.\n"
          ],
          "name": "stdout"
        }
      ]
    },
    {
      "cell_type": "markdown",
      "metadata": {
        "id": "c9ZPLiBlDCUK",
        "colab_type": "text"
      },
      "source": [
        "# Get Data\n",
        "\n",
        "Use Keras to download MNIST in one line. We split into train and test and we verify the dimensionality"
      ]
    },
    {
      "cell_type": "code",
      "metadata": {
        "id": "McS8S8vMC6wx",
        "colab_type": "code",
        "colab": {
          "base_uri": "https://localhost:8080/",
          "height": 86
        },
        "outputId": "9c7e4d4a-dfad-4c80-f8da-83844848cd04"
      },
      "source": [
        "# import mnist with keras \n",
        "(x_train, y_train), (x_test, y_test) = tf.keras.datasets.mnist.load_data()"
      ],
      "execution_count": 3,
      "outputs": [
        {
          "output_type": "stream",
          "text": [
            "Downloading data from https://storage.googleapis.com/tensorflow/tf-keras-datasets/mnist.npz\n",
            "11493376/11490434 [==============================] - 0s 0us/step\n",
            "11501568/11490434 [==============================] - 0s 0us/step\n"
          ],
          "name": "stdout"
        }
      ]
    },
    {
      "cell_type": "code",
      "metadata": {
        "id": "76l0-vKqDOjQ",
        "colab_type": "code",
        "outputId": "1879296a-5d6a-42b6-baa2-cea01a75df60",
        "colab": {
          "base_uri": "https://localhost:8080/",
          "height": 223
        }
      },
      "source": [
        "print (\"Training data dimensionality: \"+str(x_train.shape))\n",
        "print (\"Test data dimensionality: \"+str(x_train.shape))\n",
        "\n",
        "import pandas as pd\n",
        "\n",
        "pd.DataFrame(data=y_train).hist()"
      ],
      "execution_count": 1,
      "outputs": [
        {
          "output_type": "error",
          "ename": "NameError",
          "evalue": "ignored",
          "traceback": [
            "\u001b[0;31m\u001b[0m",
            "\u001b[0;31mNameError\u001b[0mTraceback (most recent call last)",
            "\u001b[0;32m<ipython-input-1-7d44165e8d1f>\u001b[0m in \u001b[0;36m<module>\u001b[0;34m()\u001b[0m\n\u001b[0;32m----> 1\u001b[0;31m \u001b[0;32mprint\u001b[0m \u001b[0;34m(\u001b[0m\u001b[0;34m\"Training data dimensionality: \"\u001b[0m\u001b[0;34m+\u001b[0m\u001b[0mstr\u001b[0m\u001b[0;34m(\u001b[0m\u001b[0mx_train\u001b[0m\u001b[0;34m.\u001b[0m\u001b[0mshape\u001b[0m\u001b[0;34m)\u001b[0m\u001b[0;34m)\u001b[0m\u001b[0;34m\u001b[0m\u001b[0;34m\u001b[0m\u001b[0m\n\u001b[0m\u001b[1;32m      2\u001b[0m \u001b[0;32mprint\u001b[0m \u001b[0;34m(\u001b[0m\u001b[0;34m\"Test data dimensionality: \"\u001b[0m\u001b[0;34m+\u001b[0m\u001b[0mstr\u001b[0m\u001b[0;34m(\u001b[0m\u001b[0mx_train\u001b[0m\u001b[0;34m.\u001b[0m\u001b[0mshape\u001b[0m\u001b[0;34m)\u001b[0m\u001b[0;34m)\u001b[0m\u001b[0;34m\u001b[0m\u001b[0;34m\u001b[0m\u001b[0m\n\u001b[1;32m      3\u001b[0m \u001b[0;34m\u001b[0m\u001b[0m\n\u001b[1;32m      4\u001b[0m \u001b[0;32mimport\u001b[0m \u001b[0mpandas\u001b[0m \u001b[0;32mas\u001b[0m \u001b[0mpd\u001b[0m\u001b[0;34m\u001b[0m\u001b[0;34m\u001b[0m\u001b[0m\n\u001b[1;32m      5\u001b[0m \u001b[0;34m\u001b[0m\u001b[0m\n",
            "\u001b[0;31mNameError\u001b[0m: name 'x_train' is not defined"
          ]
        }
      ]
    },
    {
      "cell_type": "markdown",
      "metadata": {
        "id": "CCwOUhCNjLcI",
        "colab_type": "text"
      },
      "source": [
        "# Data preparation\n",
        "\n",
        "Data needs to be **normalised** between 0 and 1 and \"packaged\" in the right format (i.e. trainig data needs to be associated to their respective labels. \n",
        "\n",
        "Moreover, the labels needs to be converted into the output of the Neural networ (a 10 digit vector) "
      ]
    },
    {
      "cell_type": "code",
      "metadata": {
        "id": "Dl1ezboNjLcI",
        "colab_type": "code",
        "colab": {}
      },
      "source": [
        "def vectorized_result(j):\n",
        "    \"\"\"Return a 10-dimensional unit vector with a 1.0 in the jth\n",
        "    position and zeroes elsewhere.  This is used to convert a digit\n",
        "    (0...9) into a corresponding desired output from the neural\n",
        "    network.\"\"\"\n",
        "    e = np.zeros((10, 1))\n",
        "    e[j] = 1.0\n",
        "    return e\n",
        "\n",
        "# we unfold  24x24 matrices corresponding to each MNIST image into 1x784 vectors \n",
        "training_inputs = [np.reshape(x.astype(np.float32)/255.0,(784,1)) for x in x_train]\n",
        "# we convert a label (e.g. '9') in a 10-dim binary vector [0,0,0,0,0,0,0,0,1,0]\n",
        "training_results = [vectorized_result(y) for y in y_train]\n",
        "# we combine together the features and the labels \n",
        "training_data_keras = zip(training_inputs, training_results)"
      ],
      "execution_count": 0,
      "outputs": []
    },
    {
      "cell_type": "code",
      "metadata": {
        "id": "sJuhJEqLCs-v",
        "colab_type": "code",
        "colab": {}
      },
      "source": [
        "# we do the same for the test set \n",
        "test_inputs = [np.reshape(x.astype(np.float32)/255.0,(784,1)) for x in x_test]\n",
        "test_results = [vectorized_result(y) for y in y_test]\n",
        "test_data_keras = zip(test_inputs,y_test)"
      ],
      "execution_count": 0,
      "outputs": []
    },
    {
      "cell_type": "markdown",
      "metadata": {
        "id": "f8z2C5h1-HHo",
        "colab_type": "text"
      },
      "source": [
        "# Quadratic and cross-entropy cost functions\n",
        "\n",
        "Define the two cost functions used in the optimization from [X-validated](https://stats.stackexchange.com/questions/154879/a-list-of-cost-functions-used-in-neural-networks-alongside-applications)\n",
        "\n",
        "**1. Quadratic cost**\n",
        "\n",
        "$C_{MST}(W, B, S^r, E^r) = 0.5\\sum\\limits_j (a^L_j - E^r_j)^2$\n",
        "\n",
        "**2. Cross Entropy cost**\n",
        "\n",
        "$C_{CE}(W, B, S^r, E^r) = -\\sum\\limits_j E^r_j \\ln a^L_j + (1 - E^r_j) \\ln(1-a^L_j)] $\n"
      ]
    },
    {
      "cell_type": "code",
      "metadata": {
        "id": "iLnV-3qqjLcb",
        "colab_type": "code",
        "colab": {}
      },
      "source": [
        "\n",
        "class QuadraticCost(object):\n",
        "       \n",
        "    @staticmethod\n",
        "    def fn(a, y):\n",
        "        # returns the quadratic cost\n",
        "        # a :  a vector containing the output of the network \n",
        "        # y :  desired output (i.e. the labels of MNIST)\n",
        "        return 0.5*np.linalg.norm(a-y)**2\n",
        "\n",
        "    # return the error delta from the output layer.\"\"\"\n",
        "    @staticmethod\n",
        "    def delta(z, a, y):\n",
        "        return (a-y) * sigmoid_prime(z)\n",
        "\n",
        "\n",
        "class CrossEntropyCost(object):\n",
        "\n",
        "    @staticmethod\n",
        "    def fn(a, y):\n",
        "       # returns the cross-entropy cost \n",
        "       # a :  a vector containing the output of the network\n",
        "       # y :  desired output (i.e. the labels of MNIST)\n",
        "       \n",
        "        \"\"\" Note that np.nan_to_num is used to ensure numerical\n",
        "        stability.  In particular, if both ``a`` and ``y`` have a 1.0\n",
        "        in the same slot, then the expression (1-y)*np.log(1-a)\n",
        "        returns nan.  The np.nan_to_num ensures that that is converted\n",
        "        to the correct value (0.0).\n",
        "        \"\"\"\n",
        "        return np.sum(np.nan_to_num(-y*np.log(a)-(1-y)*np.log(1-a)))\n",
        "\n",
        "    @staticmethod\n",
        "    def delta(z, a, y):\n",
        "        \"\"\"Return the error delta from the output layer.  Note that the\n",
        "        parameter ``z`` is not used by the method.  It is included in\n",
        "        the method's parameters in order to make the interface\n",
        "        consistent with the delta method for other cost classes.\n",
        "        \"\"\"\n",
        "        return (a-y)\n",
        "  "
      ],
      "execution_count": 0,
      "outputs": []
    },
    {
      "cell_type": "code",
      "metadata": {
        "id": "l1pu80eXDaAV",
        "colab_type": "code",
        "outputId": "17122be3-5914-4a55-8c93-d9de02d73390",
        "colab": {
          "base_uri": "https://localhost:8080/",
          "height": 319
        }
      },
      "source": [
        "from matplotlib import pyplot\n",
        "\n",
        "i = np.arange(0,1.0,0.01)\n",
        "# = np.arange(-x,x,0.1)\n",
        "\n",
        "plt.plot(i,np.log(i))"
      ],
      "execution_count": 0,
      "outputs": [
        {
          "output_type": "stream",
          "text": [
            "/usr/local/lib/python2.7/dist-packages/ipykernel_launcher.py:6: RuntimeWarning: divide by zero encountered in log\n",
            "  \n"
          ],
          "name": "stderr"
        },
        {
          "output_type": "execute_result",
          "data": {
            "text/plain": [
              "[<matplotlib.lines.Line2D at 0x7f1ddc585810>]"
            ]
          },
          "metadata": {
            "tags": []
          },
          "execution_count": 8
        },
        {
          "output_type": "display_data",
          "data": {
            "image/png": "[encoded data removed]",
            "text/plain": [
              "<Figure size 432x288 with 1 Axes>"
            ]
          },
          "metadata": {
            "tags": []
          }
        }
      ]
    },
    {
      "cell_type": "code",
      "metadata": {
        "id": "VZiE5K3NjLcL",
        "colab_type": "code",
        "outputId": "1fc557ae-1eaf-4d9d-90d7-a47ebf9d1300",
        "colab": {
          "base_uri": "https://localhost:8080/",
          "height": 269
        }
      },
      "source": [
        "from matplotlib import pyplot\n",
        "\n",
        "# visualize samples from MNIST\n",
        "for i in range(9):\n",
        "\tpyplot.subplot(330 + 1 + i)\n",
        "\tpyplot.imshow(x_train[i], cmap=pyplot.get_cmap('gray'))\n",
        "pyplot.show()"
      ],
      "execution_count": 0,
      "outputs": [
        {
          "output_type": "display_data",
          "data": {
            "image/png": "[encoded data removed]",
            "text/plain": [
              "<Figure size 432x288 with 9 Axes>"
            ]
          },
          "metadata": {
            "tags": []
          }
        }
      ]
    },
    {
      "cell_type": "markdown",
      "metadata": {
        "id": "kd6UNMy8jLcN",
        "colab_type": "text"
      },
      "source": [
        "# Network architecture\n",
        "\n",
        "This is where we define the architecture layers.  In particular: \n",
        "\n",
        "- The list ``sizes`` contains the number of neurons in the respective layers of the network.  \n",
        "  _Example_\n",
        "  \n",
        "   `sizes =  [2, 3, 1]` instantiates  a three-layer network, with the first layer containing 2 neurons, the second layer 3 neurons, and the third layer 1 neuron._\n",
        "- The biases and weights for the network are initialized randomly, using a Gaussian distribution with mean 0, and variance 1.  \n"
      ]
    },
    {
      "cell_type": "code",
      "metadata": {
        "id": "cUFLaPxDjLcO",
        "colab_type": "code",
        "colab": {}
      },
      "source": [
        "#### Main Network class\n",
        "class Network(object):\n",
        "\n",
        "    def __init__(self, sizes, cost=CrossEntropyCost):\n",
        "        # set the number of layers \n",
        "        self.num_layers = len(sizes)\n",
        "        # contains the number of neurons in each layer\n",
        "        self.sizes = sizes\n",
        "        # you need to start from somewhere.. \n",
        "        # randomly initialise weights (and biases)\n",
        "        self.default_weight_initializer()\n",
        "        # sets the type of cost function to use for the training\n",
        "        self.cost=cost"
      ],
      "execution_count": 0,
      "outputs": []
    },
    {
      "cell_type": "code",
      "metadata": {
        "id": "CEIpsMs83lEC",
        "colab_type": "code",
        "colab": {}
      },
      "source": [
        "# create a newtwork with three layers \n",
        "net = Network([784, 10, 10])\n",
        "# initialize the weights and biases\n",
        "net.default_weight_initializer()"
      ],
      "execution_count": 0,
      "outputs": []
    },
    {
      "cell_type": "markdown",
      "metadata": {
        "id": "9kEkdW3ajLcY",
        "colab_type": "text"
      },
      "source": [
        "# Initialize weights \n",
        "\n",
        "- **Weights Initialization** : use a Gaussian distribution with mean 0 and standard deviation 1 over the square root of the number of weights connecting to the same neuron ( neurons in the previous layer).\n",
        "\n",
        "\n",
        "\n",
        "- Following this approach, the weighted sum of inputs at a hidden layer will not take a large value and reduces the chances of the *vanishing/exploding gradient problem*.\n",
        "\n",
        "\n",
        "- **Biases Initialization** using a Gaussian distribution with mean 0 and standard deviation 1.\n",
        "\n",
        "\n",
        "_Note: no biases in the first layer (input layer), since biases are only ever used in computing the outputs from later layers._"
      ]
    },
    {
      "cell_type": "code",
      "metadata": {
        "id": "Ew80gF7xjLcZ",
        "colab_type": "code",
        "colab": {}
      },
      "source": [
        "class Network(Network):\n",
        "    \n",
        "    def default_weight_initializer(self):\n",
        "        # get the number of neurons in all the layers but the first one (for y in self.sizes[1:])\n",
        "        # draw y random numbers to initialise the weights \n",
        "        self.biases = [np.random.randn(y, 1) for y in self.sizes[1:]]\n",
        "\n",
        "\n",
        "        self.weights = [np.random.randn(y, x)/np.sqrt(x)\n",
        "                        for x, y in zip(self.sizes[:-1], self.sizes[1:])]\n",
        "\n",
        "    def large_weight_initializer(self):\n",
        "\n",
        "        self.biases = [np.random.randn(y, 1) for y in self.sizes[1:]]\n",
        "        self.weights = [np.random.randn(y, x)\n",
        "                        for x, y in zip(self.sizes[:-1], self.sizes[1:])]\n"
      ],
      "execution_count": 0,
      "outputs": []
    },
    {
      "cell_type": "markdown",
      "metadata": {
        "id": "1SlMf0WujLcV",
        "colab_type": "text"
      },
      "source": [
        "# Feedforward calculation \n",
        "\n",
        "This is core operation of Feedforward networks: we multiply the output of previous layers with the weights of the current layer. \n",
        "\n",
        "Moreover we also add the bias and apply the activation function ( in this case a sigmoid)"
      ]
    },
    {
      "cell_type": "code",
      "metadata": {
        "id": "gmG3rdxoFvac",
        "colab_type": "code",
        "outputId": "b67fdb61-11c6-418d-e073-d4b67308a7e1",
        "colab": {
          "base_uri": "https://localhost:8080/",
          "height": 84
        }
      },
      "source": [
        "\n",
        "# check  dimensionality of I/O\n",
        "print (\"Dimensionality of matrix with Weights connecting  -\\\n",
        "  input layer and hidden layer : \"+str( net.weights[0].shape) ) \n",
        "print (\"Dimensionality of matrix with Weights connecting hidden \\\n",
        "  layer and output : \"+str( net.weights[1].shape) ) \n",
        "\n",
        "print (\"Dimensionality of biases connecting hidden \\\n",
        "  layer and output : \"+str( net.biases[0].shape) ) \n",
        "print (\"Dimensionality of biases connecting hidden \\\n",
        "  layer and output : \"+str( net.biases[1].shape) ) "
      ],
      "execution_count": 0,
      "outputs": [
        {
          "output_type": "stream",
          "text": [
            "Dimensionality of matrix with Weights connecting  -  input layer and hidden layer : (10, 784)\n",
            "Dimensionality of matrix with Weights connecting hidden   layer and output : (10, 10)\n",
            "Dimensionality of biases connecting hidden   layer and output : (10, 1)\n",
            "Dimensionality of biases connecting hidden   layer and output : (10, 1)\n"
          ],
          "name": "stdout"
        }
      ]
    },
    {
      "cell_type": "code",
      "metadata": {
        "id": "26lti42gu8FG",
        "colab_type": "code",
        "outputId": "e7a4f24c-0d35-4199-e34e-71427cacd58d",
        "colab": {
          "base_uri": "https://localhost:8080/",
          "height": 316
        }
      },
      "source": [
        "import pandas as pd \n",
        "\n",
        "pd.DataFrame(data=net.weights[0].reshape(net.weights[0].shape[0]*net.weights[0].shape[1],1)).hist(bins=100)\n"
      ],
      "execution_count": 0,
      "outputs": [
        {
          "output_type": "execute_result",
          "data": {
            "text/plain": [
              "array([[<matplotlib.axes._subplots.AxesSubplot object at 0x7f1ddc2f23d0>]],\n",
              "      dtype=object)"
            ]
          },
          "metadata": {
            "tags": []
          },
          "execution_count": 15
        },
        {
          "output_type": "display_data",
          "data": {
            "image/png": "[encoded data removed]",
            "text/plain": [
              "<Figure size 432x288 with 1 Axes>"
            ]
          },
          "metadata": {
            "tags": []
          }
        }
      ]
    },
    {
      "cell_type": "markdown",
      "metadata": {
        "id": "DG1uSY9TV9x8",
        "colab_type": "text"
      },
      "source": [
        "# Misc functions\n",
        "\n",
        "Support functions to calculate sigmoid, load a network from file, etc. "
      ]
    },
    {
      "cell_type": "code",
      "metadata": {
        "id": "HLKcdxeUV8vg",
        "colab_type": "code",
        "colab": {}
      },
      "source": [
        "#### Loading a Network\n",
        "def load(filename):\n",
        "    \"\"\"Load a neural network from the file ``filename``.  Returns an\n",
        "    instance of Network.\n",
        "\n",
        "    \"\"\"\n",
        "    # opens a json file with nodes : cost, weights, biases and sizes\n",
        "    f = open(filename, \"r\")\n",
        "    data = json.load(f)\n",
        "    f.close()\n",
        "    cost = getattr(sys.modules[__name__], data[\"cost\"])\n",
        "    net = Network(data[\"sizes\"], cost=cost)\n",
        "    net.weights = [np.array(w) for w in data[\"weights\"]]\n",
        "    net.biases = [np.array(b) for b in data[\"biases\"]]\n",
        "    return net\n",
        "\n",
        "#### Miscellaneous functions\n",
        "def vectorized_result(j):\n",
        "    \"\"\"Return a 10-dimensional unit vector with a 1.0 in the j'th position\n",
        "    and zeroes elsewhere.  This is used to convert a digit (0...9)\n",
        "    into a corresponding desired output from the neural network.\n",
        "\n",
        "    \"\"\"\n",
        "    e = np.zeros((10, 1))\n",
        "    e[j] = 1.0\n",
        "    return e\n",
        "\n",
        "def sigmoid(z):\n",
        "    \"\"\"The sigmoid function.\"\"\"\n",
        "    return 1.0/(1.0+np.exp(-z))\n",
        "\n",
        "def sigmoid_prime(z):\n",
        "    \"\"\"Derivative of the sigmoid function.\"\"\"\n",
        "    return sigmoid(z)*(1-sigmoid(z)) \n"
      ],
      "execution_count": 0,
      "outputs": []
    },
    {
      "cell_type": "code",
      "metadata": {
        "id": "oQx6sKRnWWMw",
        "colab_type": "code",
        "outputId": "fcc4aa7d-c798-463b-9346-8828117aed9f",
        "colab": {
          "base_uri": "https://localhost:8080/",
          "height": 302
        }
      },
      "source": [
        "import numpy as np\n",
        "\n",
        "x=5\n",
        "sigm  = np.array([sigmoid(a)for a in np.arange(-x,x,0.1)],dtype=float) \n",
        "\n",
        "sigm_pr  = np.array([sigmoid_prime(a)for a in np.arange(-x,x,0.1)],dtype=float) \n",
        "plt.plot( np.arange(-x,x,0.1),sigm)\n",
        "\n",
        "\n",
        "plt.plot( np.arange(-x,x,0.1),sigm,np.arange(-x,x,0.1), sigm_pr)\n"
      ],
      "execution_count": 0,
      "outputs": [
        {
          "output_type": "execute_result",
          "data": {
            "text/plain": [
              "[<matplotlib.lines.Line2D at 0x7f1ddc0d1150>,\n",
              " <matplotlib.lines.Line2D at 0x7f1ddc022a90>]"
            ]
          },
          "metadata": {
            "tags": []
          },
          "execution_count": 17
        },
        {
          "output_type": "display_data",
          "data": {
            "image/png": "[encoded data removed]",
            "text/plain": [
              "<Figure size 432x288 with 1 Axes>"
            ]
          },
          "metadata": {
            "tags": []
          }
        }
      ]
    },
    {
      "cell_type": "code",
      "metadata": {
        "id": "rZ0cPrg1jLcW",
        "colab_type": "code",
        "colab": {}
      },
      "source": [
        "class Network(Network):\n",
        "    def feedforward(self, a):\n",
        "        # Calculate activation fucntions for all neurons in layer n-1\n",
        "        for b, w in zip(self.biases, self.weights):\n",
        "            # multiply weights to activation functions at layer n, add the bias\n",
        "            # then sigmoid the whole thing and return activations for layer n \n",
        "            a = sigmoid(np.dot(w, a)+b)\n",
        "        return a"
      ],
      "execution_count": 0,
      "outputs": []
    },
    {
      "cell_type": "markdown",
      "metadata": {
        "id": "jFfcmOGojTX9",
        "colab_type": "text"
      },
      "source": [
        "# Backpropagation\n",
        "\n",
        "This is one of the most important functions where we compute the gradient of the cost function with respect to the weights and the biases. \n",
        "\n",
        "`nabla_w` = $\\delta C_x / \\delta w_{jk}^l $ ( partial derivates of cost function w.r.t weights) \n",
        "\n",
        "`nabla_b` = $\\delta C_x / \\delta b_{j}^l $ ( partial derivates of cost function w.r.t. biases) "
      ]
    },
    {
      "cell_type": "code",
      "metadata": {
        "id": "rCmlNKVPjLce",
        "colab_type": "code",
        "colab": {}
      },
      "source": [
        "class Network(Network):\n",
        "        def backprop(self, x, y):\n",
        "            \"\"\"Return a tuple ``(nabla_b, nabla_w)`` representing the\n",
        "            gradient for the cost function C_x.  ``nabla_b`` and\n",
        "            ``nabla_w`` are layer-by-layer lists of numpy arrays, similar\n",
        "            to ``self.biases`` and ``self.weights``.\"\"\"\n",
        "\n",
        "            # initialize partial derivatives to zero for biases\n",
        "            nabla_b = [np.zeros(b.shape) for b in self.biases]\n",
        "            # initialize partial derivatives to zero for weights\n",
        "            nabla_w = [np.zeros(w.shape) for w in self.weights]\n",
        "\n",
        "            # get the pixels and initialize the first layer \n",
        "            activation = x\n",
        "            activations = [x] # list to store all the activations, layer by layer\n",
        "            \n",
        "            zs = [] # list to store all the z vectors, layer by layer\n",
        "\n",
        "            # forward pass \n",
        "            for b, w in zip(self.biases, self.weights):\n",
        "                # first multiply weights with activation and add bias \n",
        "                z = np.dot(w, activation)+b\n",
        "                zs.append(z)\n",
        "                activation = sigmoid(z)\n",
        "                activations.append(activation)\n",
        "                \n",
        "            # backward pass\n",
        "            delta = (self.cost).delta(zs[-1], activations[-1], y)\n",
        "            nabla_b[-1] = delta\n",
        "            nabla_w[-1] = np.dot(delta, activations[-2].transpose())\n",
        "\n",
        "            # Note that the variable l in the loop below is used a little\n",
        "            # differently to the notation in Chapter 2 of the book.  Here,\n",
        "            # l = 1 means the last layer of neurons, l = 2 is the\n",
        "            # second-last layer, and so on.  It's a renumbering of the\n",
        "            # scheme in the book, used here to take advantage of the fact\n",
        "            # that Python can use negative indices in lists.\n",
        "            for l in xrange(2, self.num_layers):\n",
        "                z = zs[-l]\n",
        "                sp = sigmoid_prime(z)\n",
        "                delta = np.dot(self.weights[-l+1].transpose(), delta) * sp\n",
        "                nabla_b[-l] = delta\n",
        "                nabla_w[-l] = np.dot(delta, activations[-l-1].transpose())\n",
        "            return (nabla_b, nabla_w)"
      ],
      "execution_count": 0,
      "outputs": []
    },
    {
      "cell_type": "markdown",
      "metadata": {
        "id": "7Lxf_j1D72Oc",
        "colab_type": "text"
      },
      "source": [
        "# Minibatch \n",
        "Here we use minibatch to approximate the true gradient of cost function with  a gradient computed over a minibatch of samples. \n",
        "\n",
        "\n",
        "In particular, we take a batch of samples, we calculate the derivatives of the gradient using  backprop and we update weights according to :\n",
        "\n",
        "\n",
        "## $w := (1-\\eta)\\frac{\\lambda}{n}w - \\frac{\\eta}{s_{mb}} \\nabla C_i(w)$\n",
        "\n",
        "where: \n",
        "- $\\eta$ is the learning rate\n",
        "- $\\lambda$ is the regularization rate \n",
        "- $s_{mb}$ is the number of size \n"
      ]
    },
    {
      "cell_type": "code",
      "metadata": {
        "id": "U83-_8dWjLch",
        "colab_type": "code",
        "colab": {}
      },
      "source": [
        "class Network(Network):\n",
        "\n",
        "    def update_mini_batch(self, mini_batch, eta, lmbda, n):\n",
        "\n",
        "        \"\"\" Update the network's weights and biases by applying gradient\n",
        "        descent using backpropagation to a single mini batch.  \n",
        "        \n",
        "        Parameters: \n",
        "\n",
        "        mini_batch -  is a list of tuples ``(x, y)``\n",
        "        eta        -  is the learning rate\n",
        "        lmbda .    -  is the regularization parameter, and\n",
        "        n          - is the total size of the training data set.\n",
        "        \"\"\"\n",
        "\n",
        "        # initialise weights and biases \n",
        "        nabla_b = [np.zeros(b.shape) for b in self.biases]\n",
        "        nabla_w = [np.zeros(w.shape) for w in self.weights]\n",
        "\n",
        "        # for each sample in the minibatch \n",
        "        for x, y in mini_batch:\n",
        "            # compute updates to the gradient \n",
        "            delta_nabla_b, delta_nabla_w = self.backprop(x, y)\n",
        "\n",
        "            # calculate new gradient (partial derivatives) by adding updates\n",
        "            # returned above by backprop\n",
        "            nabla_b = [nb+dnb for nb, dnb in zip(nabla_b, delta_nabla_b)]\n",
        "            nabla_w = [nw+dnw for nw, dnw in zip(nabla_w, delta_nabla_w)]\n",
        "            \n",
        "        # calculate new set of weights with current learning rete (eta) \n",
        "        # and regularization parameter\n",
        "        self.weights = [(1-eta*(lmbda/n))*w-(eta/len(mini_batch))*nw\n",
        "                        for w, nw in zip(self.weights, nabla_w)]\n",
        "        self.biases = [b-(eta/len(mini_batch))*nb\n",
        "                       for b, nb in zip(self.biases, nabla_b)]\n",
        "\n",
        "    # Function to save the state of the neural net training for future \n",
        "    # sessions \n",
        "    def save(self, filename):\n",
        "        \"\"\"Save the neural network to the file ``filename``.\"\"\"\n",
        "        data = {\"sizes\": self.sizes,\n",
        "                \"weights\": [w.tolist() for w in self.weights],\n",
        "                \"biases\": [b.tolist() for b in self.biases],\n",
        "                \"cost\": str(self.cost.__name__)}\n",
        "        f = open(filename, \"w\")\n",
        "        json.dump(data, f)\n",
        "        f.close()\n"
      ],
      "execution_count": 0,
      "outputs": []
    },
    {
      "cell_type": "markdown",
      "metadata": {
        "id": "FUYDrQCN7TJV",
        "colab_type": "text"
      },
      "source": [
        "# SGD "
      ]
    },
    {
      "cell_type": "markdown",
      "metadata": {
        "id": "8nykTZLKay-g",
        "colab_type": "text"
      },
      "source": [
        "Train the neural network using mini-batch stochastic gradient\n",
        "descent.  The ``training_data`` is a list of tuples ``(x, y)``\n",
        "representing the training inputs and the desired outputs.  The\n",
        "other non-optional parameters are self-explanatory, as is the\n",
        "regularization parameter ``lmbda``.  The method also accepts\n",
        "``evaluation_data``, usually either the validation or test\n",
        "data.  We can monitor the cost and accuracy on either the\n",
        "evaluation data or the training data, by setting the\n",
        "appropriate flags.  The method returns a tuple containing four\n",
        "lists: the (per-epoch) costs on the evaluation data, the\n",
        "accuracies on the evaluation data, the costs on the training\n",
        "data, and the accuracies on the training data.  All values are\n",
        "evaluated at the end of each training epoch.  So, for example,\n",
        "if we train for 30 epochs, then the first element of the tuple\n",
        "will be a 30-element list containing the cost on the\n",
        "evaluation data at the end of each epoch. Note that the lists\n",
        "are empty if the corresponding flag is not set.\n",
        "\n"
      ]
    },
    {
      "cell_type": "code",
      "metadata": {
        "id": "cBQK_y4y7SQK",
        "colab_type": "code",
        "colab": {}
      },
      "source": [
        "\n",
        "class Network(Network):\n",
        "    def SGD(self, training_data, epochs, mini_batch_size, eta,\n",
        "            lmbda = 0.0,\n",
        "            evaluation_data=None,\n",
        "            monitor_evaluation_cost=False,\n",
        "            monitor_evaluation_accuracy=False,\n",
        "            monitor_training_cost=False,\n",
        "            monitor_training_accuracy=False):\n",
        "        # set the proper size of samples, if it is not the training set \n",
        "        # get the lenght of the evaluation_data passed as parameter\n",
        "        if evaluation_data: n_data = len(evaluation_data)\n",
        "        n = len(training_data)\n",
        "        # declare lists that will be useful later on..\n",
        "        evaluation_cost, evaluation_accuracy = [], []\n",
        "        training_cost, training_accuracy = [], []\n",
        "\n",
        "        # loop over the number of epochs provided as input \n",
        "        for j in xrange(epochs):\n",
        "            \n",
        "            # randomise the training set \n",
        "            random.shuffle(training_data)\n",
        "            # spit the training set into mini batches of \n",
        "            # the given size \n",
        "            mini_batches = [\n",
        "                training_data[k:k+mini_batch_size]\n",
        "                for k in xrange(0, n, mini_batch_size)]\n",
        "            \n",
        "            # for each minibatch compute backprop \n",
        "            for mini_batch in mini_batches:\n",
        "                self.update_mini_batch(\n",
        "                    mini_batch, eta, lmbda, len(training_data))\n",
        "            print \"Epoch %s training complete\" % j\n",
        "            \n",
        "            # get total cost over the training set so far \n",
        "            if monitor_training_cost:\n",
        "                cost = self.total_cost(training_data, lmbda)\n",
        "                training_cost.append(cost)\n",
        "                print \"Cost on training data: {}\".format(cost)\n",
        "            \n",
        "            # get accuracy for specific minibatch\n",
        "            if monitor_training_accuracy:\n",
        "                accuracy = self.accuracy(training_data, convert=True)\n",
        "                training_accuracy.append(accuracy)\n",
        "                print \"Accuracy on training data: {} / {}\".format(\n",
        "                    accuracy, n)\n",
        "            \n",
        "            # get evaluation cost and accuracy\n",
        "            if monitor_evaluation_cost:\n",
        "                cost = self.total_cost(evaluation_data, lmbda, convert=True)\n",
        "                evaluation_cost.append(cost)\n",
        "                print \"Cost on evaluation data: {}\".format(cost)\n",
        "            if monitor_evaluation_accuracy:\n",
        "                accuracy = self.accuracy(evaluation_data)\n",
        "                evaluation_accuracy.append(accuracy)\n",
        "                print \"Accuracy on evaluation data: {} / {}\".format(\n",
        "                    self.accuracy(evaluation_data), n_data)\n",
        "            print\n",
        "        return evaluation_cost, evaluation_accuracy, \\\n",
        "            training_cost, training_accuracy\n"
      ],
      "execution_count": 0,
      "outputs": []
    },
    {
      "cell_type": "code",
      "metadata": {
        "id": "zULl1hPnjLcl",
        "colab_type": "code",
        "colab": {}
      },
      "source": [
        "# net = Network([784, 10])\n",
        "# net.SGD(training_data[:1000], 30, 10, 10.0, lmbda = 1000.0,\n",
        "#         evaluation_data=validation_data[:100],\n",
        "#         monitor_evaluation_accuracy=True)"
      ],
      "execution_count": 0,
      "outputs": []
    },
    {
      "cell_type": "markdown",
      "metadata": {
        "id": "DJpOfJcx7dVW",
        "colab_type": "text"
      },
      "source": [
        "# Accuracy and Total Cost"
      ]
    },
    {
      "cell_type": "code",
      "metadata": {
        "id": "L31WEnwO62IW",
        "colab_type": "code",
        "colab": {}
      },
      "source": [
        "\n",
        "class Network(Network):\n",
        "    \n",
        "    def accuracy(self, data, convert=False):\n",
        "        \"\"\"Return the number of inputs in ``data`` for which the neural\n",
        "        network outputs the correct result. The neural network's\n",
        "        output is assumed to be the index of whichever neuron in the\n",
        "        final layer has the highest activation.\n",
        "\n",
        "        The flag ``convert`` should be set to False if the data set is\n",
        "        validation or test data (the usual case), and to True if the\n",
        "        data set is the training data. The need for this flag arises\n",
        "        due to differences in the way the results ``y`` are\n",
        "        represented in the different data sets.  In particular, it\n",
        "        flags whether we need to convert between the different\n",
        "        representations.  It may seem strange to use different\n",
        "        representations for the different data sets.  Why not use the\n",
        "        same representation for all three data sets?  It's done for\n",
        "        efficiency reasons -- the program usually evaluates the cost\n",
        "        on the training data and the accuracy on other data sets.\n",
        "        These are different types of computations, and using different\n",
        "        representations speeds things up.  More details on the\n",
        "        representations can be found in\n",
        "        mnist_loader.load_data_wrapper.\n",
        "\n",
        "        \"\"\"\n",
        "        # if we are passing data from training set, the y is a vector of \n",
        "        # numbers ( vectorised representation),\n",
        "        # pick the max and output the label as result\n",
        "        if convert:\n",
        "            results = [(np.argmax(self.feedforward(x)), np.argmax(y))\n",
        "                       for (x, y) in data]\n",
        "        \n",
        "        # if we are passing data from test or validation, dont need \n",
        "        else:\n",
        "            results = [(np.argmax(self.feedforward(x)), y)\n",
        "                        for (x, y) in data]\n",
        "        return sum(int(x == y) for (x, y) in results)\n",
        "\n",
        "    def total_cost(self, data, lmbda, convert=False):\n",
        "        \"\"\"Return the total cost for the data set ``data``.  The flag\n",
        "        ``convert`` should be set to False if the data set is the\n",
        "        training data (the usual case), and to True if the data set is\n",
        "        the validation or test data.  See comments on the similar (but\n",
        "        reversed) convention for the ``accuracy`` method, above.\n",
        "        \"\"\"\n",
        "        cost = 0.0\n",
        "        for x, y in data:\n",
        "            a = self.feedforward(x)\n",
        "            if convert: y = vectorized_result(y)\n",
        "            cost += self.cost.fn(a, y)/len(data)\n",
        "        cost += 0.5*(lmbda/len(data))*sum(\n",
        "            np.linalg.norm(w)**2 for w in self.weights)\n",
        "        return cost"
      ],
      "execution_count": 0,
      "outputs": []
    },
    {
      "cell_type": "code",
      "metadata": {
        "id": "cOGKT86ujLcn",
        "colab_type": "code",
        "colab": {}
      },
      "source": [
        "# net.SGD(training_data_keras, 30, 10, 3.0, test_data=test_data_keras)"
      ],
      "execution_count": 0,
      "outputs": []
    },
    {
      "cell_type": "markdown",
      "metadata": {
        "id": "kS8EKl607h5F",
        "colab_type": "text"
      },
      "source": [
        "# Train and test the Network "
      ]
    },
    {
      "cell_type": "code",
      "metadata": {
        "id": "HmJurQIZjLcq",
        "colab_type": "code",
        "outputId": "af6eb533-3822-425a-d856-d504a01217e4",
        "colab": {
          "base_uri": "https://localhost:8080/",
          "height": 1000
        }
      },
      "source": [
        "n_neurons_input = 784\n",
        "n_neurons_hidden_layer = 10 \n",
        "n_neurons_output_layer = 10\n",
        "\n",
        "net = Network([n_neurons_input,\n",
        "               n_neurons_hidden_layer,\n",
        "               n_neurons_output_layer])\n",
        "\n",
        "n_of_epochs = 10\n",
        "learning_rate = 0.01 \n",
        "mini_batch_size= 10\n",
        "\n",
        "results = net.SGD(training_data_keras,\n",
        "                  n_of_epochs, mini_batch_size,\n",
        "                  learning_rate,\n",
        "                  evaluation_data=test_data_keras,\n",
        "                  monitor_evaluation_accuracy=True,\n",
        "                  monitor_evaluation_cost=True)"
      ],
      "execution_count": 0,
      "outputs": [
        {
          "output_type": "stream",
          "text": [
            "Epoch 0 training complete\n",
            "Accuracy on evaluation data: 7879 / 10000\n",
            "\n",
            "Epoch 1 training complete\n",
            "Accuracy on evaluation data: 8659 / 10000\n",
            "\n",
            "Epoch 2 training complete\n",
            "Accuracy on evaluation data: 8872 / 10000\n",
            "\n",
            "Epoch 3 training complete\n",
            "Accuracy on evaluation data: 8966 / 10000\n",
            "\n",
            "Epoch 4 training complete\n",
            "Accuracy on evaluation data: 8999 / 10000\n",
            "\n",
            "Epoch 5 training complete\n",
            "Accuracy on evaluation data: 9041 / 10000\n",
            "\n",
            "Epoch 6 training complete\n",
            "Accuracy on evaluation data: 9063 / 10000\n",
            "\n",
            "Epoch 7 training complete\n",
            "Accuracy on evaluation data: 9082 / 10000\n",
            "\n",
            "Epoch 8 training complete\n",
            "Accuracy on evaluation data: 9087 / 10000\n",
            "\n",
            "Epoch 9 training complete\n",
            "Accuracy on evaluation data: 9109 / 10000\n",
            "\n",
            "Epoch 10 training complete\n",
            "Accuracy on evaluation data: 9106 / 10000\n",
            "\n",
            "Epoch 11 training complete\n",
            "Accuracy on evaluation data: 9130 / 10000\n",
            "\n",
            "Epoch 12 training complete\n",
            "Accuracy on evaluation data: 9138 / 10000\n",
            "\n",
            "Epoch 13 training complete\n",
            "Accuracy on evaluation data: 9139 / 10000\n",
            "\n",
            "Epoch 14 training complete\n",
            "Accuracy on evaluation data: 9152 / 10000\n",
            "\n",
            "Epoch 15 training complete\n",
            "Accuracy on evaluation data: 9149 / 10000\n",
            "\n",
            "Epoch 16 training complete\n",
            "Accuracy on evaluation data: 9160 / 10000\n",
            "\n",
            "Epoch 17 training complete\n",
            "Accuracy on evaluation data: 9166 / 10000\n",
            "\n",
            "Epoch 18 training complete\n",
            "Accuracy on evaluation data: 9175 / 10000\n",
            "\n",
            "Epoch 19 training complete\n",
            "Accuracy on evaluation data: 9171 / 10000\n",
            "\n",
            "Epoch 20 training complete\n",
            "Accuracy on evaluation data: 9186 / 10000\n",
            "\n",
            "Epoch 21 training complete\n",
            "Accuracy on evaluation data: 9172 / 10000\n",
            "\n",
            "Epoch 22 training complete\n",
            "Accuracy on evaluation data: 9174 / 10000\n",
            "\n",
            "Epoch 23 training complete\n",
            "Accuracy on evaluation data: 9193 / 10000\n",
            "\n",
            "Epoch 24 training complete\n",
            "Accuracy on evaluation data: 9183 / 10000\n",
            "\n",
            "Epoch 25 training complete\n",
            "Accuracy on evaluation data: 9202 / 10000\n",
            "\n",
            "Epoch 26 training complete\n",
            "Accuracy on evaluation data: 9203 / 10000\n",
            "\n",
            "Epoch 27 training complete\n",
            "Accuracy on evaluation data: 9193 / 10000\n",
            "\n",
            "Epoch 28 training complete\n",
            "Accuracy on evaluation data: 9207 / 10000\n",
            "\n",
            "Epoch 29 training complete\n",
            "Accuracy on evaluation data: 9196 / 10000\n",
            "\n"
          ],
          "name": "stdout"
        },
        {
          "output_type": "execute_result",
          "data": {
            "text/plain": [
              "([],\n",
              " [7879,\n",
              "  8659,\n",
              "  8872,\n",
              "  8966,\n",
              "  8999,\n",
              "  9041,\n",
              "  9063,\n",
              "  9082,\n",
              "  9087,\n",
              "  9109,\n",
              "  9106,\n",
              "  9130,\n",
              "  9138,\n",
              "  9139,\n",
              "  9152,\n",
              "  9149,\n",
              "  9160,\n",
              "  9166,\n",
              "  9175,\n",
              "  9171,\n",
              "  9186,\n",
              "  9172,\n",
              "  9174,\n",
              "  9193,\n",
              "  9183,\n",
              "  9202,\n",
              "  9203,\n",
              "  9193,\n",
              "  9207,\n",
              "  9196],\n",
              " [],\n",
              " [])"
            ]
          },
          "metadata": {
            "tags": []
          },
          "execution_count": 26
        }
      ]
    },
    {
      "cell_type": "code",
      "metadata": {
        "id": "EDrPRpU6ipgd",
        "colab_type": "code",
        "colab": {}
      },
      "source": [
        ""
      ],
      "execution_count": 0,
      "outputs": []
    }
  ]
}